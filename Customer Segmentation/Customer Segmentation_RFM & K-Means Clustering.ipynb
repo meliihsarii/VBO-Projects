{
 "cells": [
  {
   "cell_type": "markdown",
   "id": "00718595",
   "metadata": {},
   "source": [
    "# Customer Segmentation using RFM"
   ]
  },
  {
   "cell_type": "markdown",
   "id": "b01c365e",
   "metadata": {},
   "source": [
    "**RFM** is an analysis that enables customers to be divided into groups by making use of their purchasing habits and to determine strategies specific to these groups.\n",
    "Each letter that makes up the RFM abbreviation actually corresponds to the Recency, Frequency, and Monetary metrics. These metrics are significant indicators of customer behavior.\n",
    "\n",
    "**Recency**: It is obtained by calculating the time elapsed since the last purchase date of the customer on a day-to-day basis.\n",
    "\n",
    "**Frequency**: It is the metric that shows the frequency of the customer's purchase. It is found by the total number of transactions.\n",
    "\n",
    "**Monetary**: It is the answer to the question of how much money the customer has left in total.\n",
    "\n",
    "With these metrics, RFM scores can be calculated and action decisions can be taken for each segment created according to the scores."
   ]
  },
  {
   "cell_type": "markdown",
   "id": "50123a05",
   "metadata": {},
   "source": [
    "## Loading Libraries"
   ]
  },
  {
   "cell_type": "code",
   "execution_count": 38,
   "id": "537b1398",
   "metadata": {},
   "outputs": [],
   "source": [
    "import pandas as pd \n",
    "import numpy as np\n",
    "import datetime as dt"
   ]
  },
  {
   "cell_type": "markdown",
   "id": "e6f89f30",
   "metadata": {},
   "source": [
    "## Understanding and Preparing Data"
   ]
  },
  {
   "cell_type": "code",
   "execution_count": 150,
   "id": "420f5dfe",
   "metadata": {},
   "outputs": [],
   "source": [
    "#Setting row and column views\n",
    "pd.set_option('display.max_columns', None)\n",
    "pd.set_option('display.max_rows', None)\n",
    "pd.set_option('display.width', 150)\n",
    "pd.set_option('display.float_format', lambda x: '%.2f' % x)"
   ]
  },
  {
   "cell_type": "code",
   "execution_count": 153,
   "id": "23b36252",
   "metadata": {},
   "outputs": [
    {
     "data": {
      "text/html": [
       "<div>\n",
       "<style scoped>\n",
       "    .dataframe tbody tr th:only-of-type {\n",
       "        vertical-align: middle;\n",
       "    }\n",
       "\n",
       "    .dataframe tbody tr th {\n",
       "        vertical-align: top;\n",
       "    }\n",
       "\n",
       "    .dataframe thead th {\n",
       "        text-align: right;\n",
       "    }\n",
       "</style>\n",
       "<table border=\"1\" class=\"dataframe\">\n",
       "  <thead>\n",
       "    <tr style=\"text-align: right;\">\n",
       "      <th></th>\n",
       "      <th>Invoice</th>\n",
       "      <th>StockCode</th>\n",
       "      <th>Description</th>\n",
       "      <th>Quantity</th>\n",
       "      <th>InvoiceDate</th>\n",
       "      <th>Price</th>\n",
       "      <th>Customer ID</th>\n",
       "      <th>Country</th>\n",
       "    </tr>\n",
       "  </thead>\n",
       "  <tbody>\n",
       "    <tr>\n",
       "      <th>0</th>\n",
       "      <td>536365</td>\n",
       "      <td>85123A</td>\n",
       "      <td>WHITE HANGING HEART T-LIGHT HOLDER</td>\n",
       "      <td>6</td>\n",
       "      <td>2010-12-01 08:26:00</td>\n",
       "      <td>2.55</td>\n",
       "      <td>17850.00</td>\n",
       "      <td>United Kingdom</td>\n",
       "    </tr>\n",
       "    <tr>\n",
       "      <th>1</th>\n",
       "      <td>536365</td>\n",
       "      <td>71053</td>\n",
       "      <td>WHITE METAL LANTERN</td>\n",
       "      <td>6</td>\n",
       "      <td>2010-12-01 08:26:00</td>\n",
       "      <td>3.39</td>\n",
       "      <td>17850.00</td>\n",
       "      <td>United Kingdom</td>\n",
       "    </tr>\n",
       "    <tr>\n",
       "      <th>2</th>\n",
       "      <td>536365</td>\n",
       "      <td>84406B</td>\n",
       "      <td>CREAM CUPID HEARTS COAT HANGER</td>\n",
       "      <td>8</td>\n",
       "      <td>2010-12-01 08:26:00</td>\n",
       "      <td>2.75</td>\n",
       "      <td>17850.00</td>\n",
       "      <td>United Kingdom</td>\n",
       "    </tr>\n",
       "    <tr>\n",
       "      <th>3</th>\n",
       "      <td>536365</td>\n",
       "      <td>84029G</td>\n",
       "      <td>KNITTED UNION FLAG HOT WATER BOTTLE</td>\n",
       "      <td>6</td>\n",
       "      <td>2010-12-01 08:26:00</td>\n",
       "      <td>3.39</td>\n",
       "      <td>17850.00</td>\n",
       "      <td>United Kingdom</td>\n",
       "    </tr>\n",
       "    <tr>\n",
       "      <th>4</th>\n",
       "      <td>536365</td>\n",
       "      <td>84029E</td>\n",
       "      <td>RED WOOLLY HOTTIE WHITE HEART.</td>\n",
       "      <td>6</td>\n",
       "      <td>2010-12-01 08:26:00</td>\n",
       "      <td>3.39</td>\n",
       "      <td>17850.00</td>\n",
       "      <td>United Kingdom</td>\n",
       "    </tr>\n",
       "  </tbody>\n",
       "</table>\n",
       "</div>"
      ],
      "text/plain": [
       "  Invoice StockCode                          Description  Quantity         InvoiceDate  Price  Customer ID         Country\n",
       "0  536365    85123A   WHITE HANGING HEART T-LIGHT HOLDER         6 2010-12-01 08:26:00   2.55     17850.00  United Kingdom\n",
       "1  536365     71053                  WHITE METAL LANTERN         6 2010-12-01 08:26:00   3.39     17850.00  United Kingdom\n",
       "2  536365    84406B       CREAM CUPID HEARTS COAT HANGER         8 2010-12-01 08:26:00   2.75     17850.00  United Kingdom\n",
       "3  536365    84029G  KNITTED UNION FLAG HOT WATER BOTTLE         6 2010-12-01 08:26:00   3.39     17850.00  United Kingdom\n",
       "4  536365    84029E       RED WOOLLY HOTTIE WHITE HEART.         6 2010-12-01 08:26:00   3.39     17850.00  United Kingdom"
      ]
     },
     "execution_count": 153,
     "metadata": {},
     "output_type": "execute_result"
    }
   ],
   "source": [
    "retail = pd.read_excel('C:/Users/melih.sari/OneDrive - Vakko Tekstil ve Hazır Giyim İşl. Sanayi A.Ş/Desktop/online_retail_II.xlsx',\n",
    "                       sheet_name='Year 2010-2011')\n",
    "retail= retail.copy()\n",
    "retail.head()"
   ]
  },
  {
   "cell_type": "code",
   "execution_count": 41,
   "id": "fa1a0f1b",
   "metadata": {},
   "outputs": [
    {
     "data": {
      "text/plain": [
       "(541910, 8)"
      ]
     },
     "execution_count": 41,
     "metadata": {},
     "output_type": "execute_result"
    }
   ],
   "source": [
    "# Examining the descriptive statistics of the dataset\n",
    "retail.shape"
   ]
  },
  {
   "cell_type": "code",
   "execution_count": 154,
   "id": "9c7ab372",
   "metadata": {},
   "outputs": [
    {
     "name": "stdout",
     "output_type": "stream",
     "text": [
      "<class 'pandas.core.frame.DataFrame'>\n",
      "RangeIndex: 541910 entries, 0 to 541909\n",
      "Data columns (total 8 columns):\n",
      " #   Column       Non-Null Count   Dtype         \n",
      "---  ------       --------------   -----         \n",
      " 0   Invoice      541910 non-null  object        \n",
      " 1   StockCode    541910 non-null  object        \n",
      " 2   Description  540456 non-null  object        \n",
      " 3   Quantity     541910 non-null  int64         \n",
      " 4   InvoiceDate  541910 non-null  datetime64[ns]\n",
      " 5   Price        541910 non-null  float64       \n",
      " 6   Customer ID  406830 non-null  float64       \n",
      " 7   Country      541910 non-null  object        \n",
      "dtypes: datetime64[ns](1), float64(2), int64(1), object(4)\n",
      "memory usage: 33.1+ MB\n"
     ]
    }
   ],
   "source": [
    "retail.info()"
   ]
  },
  {
   "cell_type": "code",
   "execution_count": 155,
   "id": "c6045b16",
   "metadata": {},
   "outputs": [
    {
     "data": {
      "text/html": [
       "<div>\n",
       "<style scoped>\n",
       "    .dataframe tbody tr th:only-of-type {\n",
       "        vertical-align: middle;\n",
       "    }\n",
       "\n",
       "    .dataframe tbody tr th {\n",
       "        vertical-align: top;\n",
       "    }\n",
       "\n",
       "    .dataframe thead th {\n",
       "        text-align: right;\n",
       "    }\n",
       "</style>\n",
       "<table border=\"1\" class=\"dataframe\">\n",
       "  <thead>\n",
       "    <tr style=\"text-align: right;\">\n",
       "      <th></th>\n",
       "      <th>Quantity</th>\n",
       "      <th>Price</th>\n",
       "      <th>Customer ID</th>\n",
       "    </tr>\n",
       "  </thead>\n",
       "  <tbody>\n",
       "    <tr>\n",
       "      <th>count</th>\n",
       "      <td>541910.00</td>\n",
       "      <td>541910.00</td>\n",
       "      <td>406830.00</td>\n",
       "    </tr>\n",
       "    <tr>\n",
       "      <th>mean</th>\n",
       "      <td>9.55</td>\n",
       "      <td>4.61</td>\n",
       "      <td>15287.68</td>\n",
       "    </tr>\n",
       "    <tr>\n",
       "      <th>std</th>\n",
       "      <td>218.08</td>\n",
       "      <td>96.76</td>\n",
       "      <td>1713.60</td>\n",
       "    </tr>\n",
       "    <tr>\n",
       "      <th>min</th>\n",
       "      <td>-80995.00</td>\n",
       "      <td>-11062.06</td>\n",
       "      <td>12346.00</td>\n",
       "    </tr>\n",
       "    <tr>\n",
       "      <th>25%</th>\n",
       "      <td>1.00</td>\n",
       "      <td>1.25</td>\n",
       "      <td>13953.00</td>\n",
       "    </tr>\n",
       "    <tr>\n",
       "      <th>50%</th>\n",
       "      <td>3.00</td>\n",
       "      <td>2.08</td>\n",
       "      <td>15152.00</td>\n",
       "    </tr>\n",
       "    <tr>\n",
       "      <th>75%</th>\n",
       "      <td>10.00</td>\n",
       "      <td>4.13</td>\n",
       "      <td>16791.00</td>\n",
       "    </tr>\n",
       "    <tr>\n",
       "      <th>max</th>\n",
       "      <td>80995.00</td>\n",
       "      <td>38970.00</td>\n",
       "      <td>18287.00</td>\n",
       "    </tr>\n",
       "  </tbody>\n",
       "</table>\n",
       "</div>"
      ],
      "text/plain": [
       "       Quantity     Price  Customer ID\n",
       "count 541910.00 541910.00    406830.00\n",
       "mean       9.55      4.61     15287.68\n",
       "std      218.08     96.76      1713.60\n",
       "min   -80995.00 -11062.06     12346.00\n",
       "25%        1.00      1.25     13953.00\n",
       "50%        3.00      2.08     15152.00\n",
       "75%       10.00      4.13     16791.00\n",
       "max    80995.00  38970.00     18287.00"
      ]
     },
     "execution_count": 155,
     "metadata": {},
     "output_type": "execute_result"
    }
   ],
   "source": [
    "retail.describe()"
   ]
  },
  {
   "cell_type": "code",
   "execution_count": 43,
   "id": "1bd27c0b",
   "metadata": {},
   "outputs": [
    {
     "data": {
      "text/plain": [
       "Invoice             0\n",
       "StockCode           0\n",
       "Description      1454\n",
       "Quantity            0\n",
       "InvoiceDate         0\n",
       "Price               0\n",
       "Customer ID    135080\n",
       "Country             0\n",
       "dtype: int64"
      ]
     },
     "execution_count": 43,
     "metadata": {},
     "output_type": "execute_result"
    }
   ],
   "source": [
    "# Missing observations in the dataset\n",
    "retail.isnull().sum()"
   ]
  },
  {
   "cell_type": "code",
   "execution_count": 157,
   "id": "bf81bd5b",
   "metadata": {},
   "outputs": [],
   "source": [
    "#Removing the missing observations from the dataset.\n",
    "retail.dropna(inplace = True)"
   ]
  },
  {
   "cell_type": "code",
   "execution_count": null,
   "id": "28056ddb",
   "metadata": {},
   "outputs": [],
   "source": [
    "#Removal of canceled transactions\n",
    "retail[~retail['Invoice'].str.contains(\"C\", na = False)]"
   ]
  },
  {
   "cell_type": "code",
   "execution_count": 156,
   "id": "07abf102",
   "metadata": {},
   "outputs": [
    {
     "data": {
      "text/plain": [
       "(541910, 8)"
      ]
     },
     "execution_count": 156,
     "metadata": {},
     "output_type": "execute_result"
    }
   ],
   "source": [
    "retail.shape"
   ]
  },
  {
   "cell_type": "code",
   "execution_count": 47,
   "id": "9cc2cba3",
   "metadata": {},
   "outputs": [
    {
     "data": {
      "text/plain": [
       "3684"
      ]
     },
     "execution_count": 47,
     "metadata": {},
     "output_type": "execute_result"
    }
   ],
   "source": [
    "# Unique number of products\n",
    "retail[\"StockCode\"].nunique()"
   ]
  },
  {
   "cell_type": "code",
   "execution_count": 48,
   "id": "638bd724",
   "metadata": {},
   "outputs": [
    {
     "data": {
      "text/plain": [
       "85123A    2077\n",
       "22423     1905\n",
       "85099B    1662\n",
       "84879     1418\n",
       "47566     1416\n",
       "Name: StockCode, dtype: int64"
      ]
     },
     "execution_count": 48,
     "metadata": {},
     "output_type": "execute_result"
    }
   ],
   "source": [
    "## How many of each product are there?\n",
    "retail[\"StockCode\"].value_counts().head()"
   ]
  },
  {
   "cell_type": "code",
   "execution_count": 49,
   "id": "9c7dadc1",
   "metadata": {},
   "outputs": [
    {
     "data": {
      "text/html": [
       "<div>\n",
       "<style scoped>\n",
       "    .dataframe tbody tr th:only-of-type {\n",
       "        vertical-align: middle;\n",
       "    }\n",
       "\n",
       "    .dataframe tbody tr th {\n",
       "        vertical-align: top;\n",
       "    }\n",
       "\n",
       "    .dataframe thead th {\n",
       "        text-align: right;\n",
       "    }\n",
       "</style>\n",
       "<table border=\"1\" class=\"dataframe\">\n",
       "  <thead>\n",
       "    <tr style=\"text-align: right;\">\n",
       "      <th></th>\n",
       "      <th>Quantity</th>\n",
       "    </tr>\n",
       "    <tr>\n",
       "      <th>Description</th>\n",
       "      <th></th>\n",
       "    </tr>\n",
       "  </thead>\n",
       "  <tbody>\n",
       "    <tr>\n",
       "      <th>WORLD WAR 2 GLIDERS ASSTD DESIGNS</th>\n",
       "      <td>53215</td>\n",
       "    </tr>\n",
       "    <tr>\n",
       "      <th>JUMBO BAG RED RETROSPOT</th>\n",
       "      <td>45066</td>\n",
       "    </tr>\n",
       "    <tr>\n",
       "      <th>ASSORTED COLOUR BIRD ORNAMENT</th>\n",
       "      <td>35314</td>\n",
       "    </tr>\n",
       "    <tr>\n",
       "      <th>WHITE HANGING HEART T-LIGHT HOLDER</th>\n",
       "      <td>34147</td>\n",
       "    </tr>\n",
       "    <tr>\n",
       "      <th>PACK OF 72 RETROSPOT CAKE CASES</th>\n",
       "      <td>33409</td>\n",
       "    </tr>\n",
       "  </tbody>\n",
       "</table>\n",
       "</div>"
      ],
      "text/plain": [
       "                                    Quantity\n",
       "Description                                 \n",
       "WORLD WAR 2 GLIDERS ASSTD DESIGNS      53215\n",
       "JUMBO BAG RED RETROSPOT                45066\n",
       "ASSORTED COLOUR BIRD ORNAMENT          35314\n",
       "WHITE HANGING HEART T-LIGHT HOLDER     34147\n",
       "PACK OF 72 RETROSPOT CAKE CASES        33409"
      ]
     },
     "execution_count": 49,
     "metadata": {},
     "output_type": "execute_result"
    }
   ],
   "source": [
    "# Sorting the 5 most ordered products from most to least\n",
    "retail_most=retail.groupby('Description').agg({'Quantity':'sum'}).sort_values('Quantity',ascending=False)\n",
    "retail_most.head()"
   ]
  },
  {
   "cell_type": "code",
   "execution_count": 65,
   "id": "4f068429",
   "metadata": {},
   "outputs": [
    {
     "data": {
      "text/html": [
       "<div>\n",
       "<style scoped>\n",
       "    .dataframe tbody tr th:only-of-type {\n",
       "        vertical-align: middle;\n",
       "    }\n",
       "\n",
       "    .dataframe tbody tr th {\n",
       "        vertical-align: top;\n",
       "    }\n",
       "\n",
       "    .dataframe thead th {\n",
       "        text-align: right;\n",
       "    }\n",
       "</style>\n",
       "<table border=\"1\" class=\"dataframe\">\n",
       "  <thead>\n",
       "    <tr style=\"text-align: right;\">\n",
       "      <th></th>\n",
       "      <th>Invoice</th>\n",
       "      <th>StockCode</th>\n",
       "      <th>Description</th>\n",
       "      <th>Quantity</th>\n",
       "      <th>InvoiceDate</th>\n",
       "      <th>Price</th>\n",
       "      <th>Customer ID</th>\n",
       "      <th>Country</th>\n",
       "      <th>TotalPrice</th>\n",
       "    </tr>\n",
       "  </thead>\n",
       "  <tbody>\n",
       "    <tr>\n",
       "      <th>541905</th>\n",
       "      <td>581587</td>\n",
       "      <td>22899</td>\n",
       "      <td>CHILDREN'S APRON DOLLY GIRL</td>\n",
       "      <td>6</td>\n",
       "      <td>2011-12-09 12:50:00</td>\n",
       "      <td>2.10</td>\n",
       "      <td>12680.0</td>\n",
       "      <td>France</td>\n",
       "      <td>12.60</td>\n",
       "    </tr>\n",
       "    <tr>\n",
       "      <th>541906</th>\n",
       "      <td>581587</td>\n",
       "      <td>23254</td>\n",
       "      <td>CHILDRENS CUTLERY DOLLY GIRL</td>\n",
       "      <td>4</td>\n",
       "      <td>2011-12-09 12:50:00</td>\n",
       "      <td>4.15</td>\n",
       "      <td>12680.0</td>\n",
       "      <td>France</td>\n",
       "      <td>16.60</td>\n",
       "    </tr>\n",
       "    <tr>\n",
       "      <th>541907</th>\n",
       "      <td>581587</td>\n",
       "      <td>23255</td>\n",
       "      <td>CHILDRENS CUTLERY CIRCUS PARADE</td>\n",
       "      <td>4</td>\n",
       "      <td>2011-12-09 12:50:00</td>\n",
       "      <td>4.15</td>\n",
       "      <td>12680.0</td>\n",
       "      <td>France</td>\n",
       "      <td>16.60</td>\n",
       "    </tr>\n",
       "    <tr>\n",
       "      <th>541908</th>\n",
       "      <td>581587</td>\n",
       "      <td>22138</td>\n",
       "      <td>BAKING SET 9 PIECE RETROSPOT</td>\n",
       "      <td>3</td>\n",
       "      <td>2011-12-09 12:50:00</td>\n",
       "      <td>4.95</td>\n",
       "      <td>12680.0</td>\n",
       "      <td>France</td>\n",
       "      <td>14.85</td>\n",
       "    </tr>\n",
       "    <tr>\n",
       "      <th>541909</th>\n",
       "      <td>581587</td>\n",
       "      <td>POST</td>\n",
       "      <td>POSTAGE</td>\n",
       "      <td>1</td>\n",
       "      <td>2011-12-09 12:50:00</td>\n",
       "      <td>18.00</td>\n",
       "      <td>12680.0</td>\n",
       "      <td>France</td>\n",
       "      <td>18.00</td>\n",
       "    </tr>\n",
       "  </tbody>\n",
       "</table>\n",
       "</div>"
      ],
      "text/plain": [
       "       Invoice StockCode                      Description  Quantity  \\\n",
       "541905  581587     22899     CHILDREN'S APRON DOLLY GIRL          6   \n",
       "541906  581587     23254    CHILDRENS CUTLERY DOLLY GIRL          4   \n",
       "541907  581587     23255  CHILDRENS CUTLERY CIRCUS PARADE         4   \n",
       "541908  581587     22138    BAKING SET 9 PIECE RETROSPOT          3   \n",
       "541909  581587      POST                          POSTAGE         1   \n",
       "\n",
       "               InvoiceDate  Price  Customer ID Country  TotalPrice  \n",
       "541905 2011-12-09 12:50:00   2.10      12680.0  France       12.60  \n",
       "541906 2011-12-09 12:50:00   4.15      12680.0  France       16.60  \n",
       "541907 2011-12-09 12:50:00   4.15      12680.0  France       16.60  \n",
       "541908 2011-12-09 12:50:00   4.95      12680.0  France       14.85  \n",
       "541909 2011-12-09 12:50:00  18.00      12680.0  France       18.00  "
      ]
     },
     "execution_count": 65,
     "metadata": {},
     "output_type": "execute_result"
    }
   ],
   "source": [
    "# 'TotalPrice' represents the total earnings per invoice\n",
    "retail = retail[retail[\"Quantity\"] > 0]\n",
    "retail = retail[retail[\"Price\"] > 0]\n",
    "retail[\"TotalPrice\"] = retail[\"Quantity\"] * retail[\"Price\"]\n",
    "retail.tail()"
   ]
  },
  {
   "cell_type": "code",
   "execution_count": 66,
   "id": "374bb105",
   "metadata": {},
   "outputs": [
    {
     "data": {
      "text/plain": [
       "0         15.30\n",
       "1         20.34\n",
       "2         22.00\n",
       "3         20.34\n",
       "4         20.34\n",
       "          ...  \n",
       "541905    12.60\n",
       "541906    16.60\n",
       "541907    16.60\n",
       "541908    14.85\n",
       "541909    18.00\n",
       "Name: TotalPrice, Length: 397885, dtype: float64"
      ]
     },
     "execution_count": 66,
     "metadata": {},
     "output_type": "execute_result"
    }
   ],
   "source": [
    "retail[\"TotalPrice\"]"
   ]
  },
  {
   "cell_type": "code",
   "execution_count": 67,
   "id": "d82a4f3d",
   "metadata": {},
   "outputs": [
    {
     "data": {
      "text/html": [
       "<div>\n",
       "<style scoped>\n",
       "    .dataframe tbody tr th:only-of-type {\n",
       "        vertical-align: middle;\n",
       "    }\n",
       "\n",
       "    .dataframe tbody tr th {\n",
       "        vertical-align: top;\n",
       "    }\n",
       "\n",
       "    .dataframe thead th {\n",
       "        text-align: right;\n",
       "    }\n",
       "</style>\n",
       "<table border=\"1\" class=\"dataframe\">\n",
       "  <thead>\n",
       "    <tr style=\"text-align: right;\">\n",
       "      <th></th>\n",
       "      <th>Invoice</th>\n",
       "      <th>StockCode</th>\n",
       "      <th>Description</th>\n",
       "      <th>Quantity</th>\n",
       "      <th>InvoiceDate</th>\n",
       "      <th>Price</th>\n",
       "      <th>Customer ID</th>\n",
       "      <th>Country</th>\n",
       "      <th>TotalPrice</th>\n",
       "    </tr>\n",
       "  </thead>\n",
       "  <tbody>\n",
       "    <tr>\n",
       "      <th>0</th>\n",
       "      <td>536365</td>\n",
       "      <td>85123A</td>\n",
       "      <td>WHITE HANGING HEART T-LIGHT HOLDER</td>\n",
       "      <td>6</td>\n",
       "      <td>2010-12-01 08:26:00</td>\n",
       "      <td>2.55</td>\n",
       "      <td>17850.0</td>\n",
       "      <td>United Kingdom</td>\n",
       "      <td>15.30</td>\n",
       "    </tr>\n",
       "    <tr>\n",
       "      <th>1</th>\n",
       "      <td>536365</td>\n",
       "      <td>71053</td>\n",
       "      <td>WHITE METAL LANTERN</td>\n",
       "      <td>6</td>\n",
       "      <td>2010-12-01 08:26:00</td>\n",
       "      <td>3.39</td>\n",
       "      <td>17850.0</td>\n",
       "      <td>United Kingdom</td>\n",
       "      <td>20.34</td>\n",
       "    </tr>\n",
       "    <tr>\n",
       "      <th>2</th>\n",
       "      <td>536365</td>\n",
       "      <td>84406B</td>\n",
       "      <td>CREAM CUPID HEARTS COAT HANGER</td>\n",
       "      <td>8</td>\n",
       "      <td>2010-12-01 08:26:00</td>\n",
       "      <td>2.75</td>\n",
       "      <td>17850.0</td>\n",
       "      <td>United Kingdom</td>\n",
       "      <td>22.00</td>\n",
       "    </tr>\n",
       "    <tr>\n",
       "      <th>3</th>\n",
       "      <td>536365</td>\n",
       "      <td>84029G</td>\n",
       "      <td>KNITTED UNION FLAG HOT WATER BOTTLE</td>\n",
       "      <td>6</td>\n",
       "      <td>2010-12-01 08:26:00</td>\n",
       "      <td>3.39</td>\n",
       "      <td>17850.0</td>\n",
       "      <td>United Kingdom</td>\n",
       "      <td>20.34</td>\n",
       "    </tr>\n",
       "    <tr>\n",
       "      <th>4</th>\n",
       "      <td>536365</td>\n",
       "      <td>84029E</td>\n",
       "      <td>RED WOOLLY HOTTIE WHITE HEART.</td>\n",
       "      <td>6</td>\n",
       "      <td>2010-12-01 08:26:00</td>\n",
       "      <td>3.39</td>\n",
       "      <td>17850.0</td>\n",
       "      <td>United Kingdom</td>\n",
       "      <td>20.34</td>\n",
       "    </tr>\n",
       "    <tr>\n",
       "      <th>...</th>\n",
       "      <td>...</td>\n",
       "      <td>...</td>\n",
       "      <td>...</td>\n",
       "      <td>...</td>\n",
       "      <td>...</td>\n",
       "      <td>...</td>\n",
       "      <td>...</td>\n",
       "      <td>...</td>\n",
       "      <td>...</td>\n",
       "    </tr>\n",
       "    <tr>\n",
       "      <th>541905</th>\n",
       "      <td>581587</td>\n",
       "      <td>22899</td>\n",
       "      <td>CHILDREN'S APRON DOLLY GIRL</td>\n",
       "      <td>6</td>\n",
       "      <td>2011-12-09 12:50:00</td>\n",
       "      <td>2.10</td>\n",
       "      <td>12680.0</td>\n",
       "      <td>France</td>\n",
       "      <td>12.60</td>\n",
       "    </tr>\n",
       "    <tr>\n",
       "      <th>541906</th>\n",
       "      <td>581587</td>\n",
       "      <td>23254</td>\n",
       "      <td>CHILDRENS CUTLERY DOLLY GIRL</td>\n",
       "      <td>4</td>\n",
       "      <td>2011-12-09 12:50:00</td>\n",
       "      <td>4.15</td>\n",
       "      <td>12680.0</td>\n",
       "      <td>France</td>\n",
       "      <td>16.60</td>\n",
       "    </tr>\n",
       "    <tr>\n",
       "      <th>541907</th>\n",
       "      <td>581587</td>\n",
       "      <td>23255</td>\n",
       "      <td>CHILDRENS CUTLERY CIRCUS PARADE</td>\n",
       "      <td>4</td>\n",
       "      <td>2011-12-09 12:50:00</td>\n",
       "      <td>4.15</td>\n",
       "      <td>12680.0</td>\n",
       "      <td>France</td>\n",
       "      <td>16.60</td>\n",
       "    </tr>\n",
       "    <tr>\n",
       "      <th>541908</th>\n",
       "      <td>581587</td>\n",
       "      <td>22138</td>\n",
       "      <td>BAKING SET 9 PIECE RETROSPOT</td>\n",
       "      <td>3</td>\n",
       "      <td>2011-12-09 12:50:00</td>\n",
       "      <td>4.95</td>\n",
       "      <td>12680.0</td>\n",
       "      <td>France</td>\n",
       "      <td>14.85</td>\n",
       "    </tr>\n",
       "    <tr>\n",
       "      <th>541909</th>\n",
       "      <td>581587</td>\n",
       "      <td>POST</td>\n",
       "      <td>POSTAGE</td>\n",
       "      <td>1</td>\n",
       "      <td>2011-12-09 12:50:00</td>\n",
       "      <td>18.00</td>\n",
       "      <td>12680.0</td>\n",
       "      <td>France</td>\n",
       "      <td>18.00</td>\n",
       "    </tr>\n",
       "  </tbody>\n",
       "</table>\n",
       "<p>397885 rows × 9 columns</p>\n",
       "</div>"
      ],
      "text/plain": [
       "       Invoice StockCode                          Description  Quantity  \\\n",
       "0       536365    85123A   WHITE HANGING HEART T-LIGHT HOLDER         6   \n",
       "1       536365     71053                  WHITE METAL LANTERN         6   \n",
       "2       536365    84406B       CREAM CUPID HEARTS COAT HANGER         8   \n",
       "3       536365    84029G  KNITTED UNION FLAG HOT WATER BOTTLE         6   \n",
       "4       536365    84029E       RED WOOLLY HOTTIE WHITE HEART.         6   \n",
       "...        ...       ...                                  ...       ...   \n",
       "541905  581587     22899         CHILDREN'S APRON DOLLY GIRL          6   \n",
       "541906  581587     23254        CHILDRENS CUTLERY DOLLY GIRL          4   \n",
       "541907  581587     23255      CHILDRENS CUTLERY CIRCUS PARADE         4   \n",
       "541908  581587     22138        BAKING SET 9 PIECE RETROSPOT          3   \n",
       "541909  581587      POST                              POSTAGE         1   \n",
       "\n",
       "               InvoiceDate  Price  Customer ID         Country  TotalPrice  \n",
       "0      2010-12-01 08:26:00   2.55      17850.0  United Kingdom       15.30  \n",
       "1      2010-12-01 08:26:00   3.39      17850.0  United Kingdom       20.34  \n",
       "2      2010-12-01 08:26:00   2.75      17850.0  United Kingdom       22.00  \n",
       "3      2010-12-01 08:26:00   3.39      17850.0  United Kingdom       20.34  \n",
       "4      2010-12-01 08:26:00   3.39      17850.0  United Kingdom       20.34  \n",
       "...                    ...    ...          ...             ...         ...  \n",
       "541905 2011-12-09 12:50:00   2.10      12680.0          France       12.60  \n",
       "541906 2011-12-09 12:50:00   4.15      12680.0          France       16.60  \n",
       "541907 2011-12-09 12:50:00   4.15      12680.0          France       16.60  \n",
       "541908 2011-12-09 12:50:00   4.95      12680.0          France       14.85  \n",
       "541909 2011-12-09 12:50:00  18.00      12680.0          France       18.00  \n",
       "\n",
       "[397885 rows x 9 columns]"
      ]
     },
     "execution_count": 67,
     "metadata": {},
     "output_type": "execute_result"
    }
   ],
   "source": [
    "retail"
   ]
  },
  {
   "cell_type": "markdown",
   "id": "24ffeed2",
   "metadata": {},
   "source": [
    "## Calculating RFM Metrics"
   ]
  },
  {
   "cell_type": "code",
   "execution_count": 69,
   "id": "ef911612",
   "metadata": {
    "scrolled": true
   },
   "outputs": [],
   "source": [
    "#For the recency value, accept today's date as (2011, 12, 11)\n",
    "today_date=dt.datetime(2011,12,11)\n",
    "\n",
    "# Describing Recency, Frequency, Monetary.\n",
    "# recency : Time since last purchase (in days)\n",
    "# frequency : Frequency of purchase\n",
    "# monetary : Total money earned by the customer\n",
    "\n",
    "rfm = retail.groupby('Customer ID').agg({'InvoiceDate' : lambda InvoiceDate : (today_date - InvoiceDate.max()).days,\n",
    "                                     'Invoice' : lambda Invoice : Invoice.nunique(),\n",
    "                                     'TotalPrice' : lambda TotalPrice : TotalPrice.sum()})\n"
   ]
  },
  {
   "cell_type": "code",
   "execution_count": 70,
   "id": "e8ee8bc4",
   "metadata": {},
   "outputs": [
    {
     "data": {
      "text/html": [
       "<div>\n",
       "<style scoped>\n",
       "    .dataframe tbody tr th:only-of-type {\n",
       "        vertical-align: middle;\n",
       "    }\n",
       "\n",
       "    .dataframe tbody tr th {\n",
       "        vertical-align: top;\n",
       "    }\n",
       "\n",
       "    .dataframe thead th {\n",
       "        text-align: right;\n",
       "    }\n",
       "</style>\n",
       "<table border=\"1\" class=\"dataframe\">\n",
       "  <thead>\n",
       "    <tr style=\"text-align: right;\">\n",
       "      <th></th>\n",
       "      <th>recency</th>\n",
       "      <th>frequency</th>\n",
       "      <th>monetary</th>\n",
       "    </tr>\n",
       "    <tr>\n",
       "      <th>Customer ID</th>\n",
       "      <th></th>\n",
       "      <th></th>\n",
       "      <th></th>\n",
       "    </tr>\n",
       "  </thead>\n",
       "  <tbody>\n",
       "    <tr>\n",
       "      <th>12346.0</th>\n",
       "      <td>326</td>\n",
       "      <td>1</td>\n",
       "      <td>77183.60</td>\n",
       "    </tr>\n",
       "    <tr>\n",
       "      <th>12347.0</th>\n",
       "      <td>3</td>\n",
       "      <td>7</td>\n",
       "      <td>4310.00</td>\n",
       "    </tr>\n",
       "    <tr>\n",
       "      <th>12348.0</th>\n",
       "      <td>76</td>\n",
       "      <td>4</td>\n",
       "      <td>1797.24</td>\n",
       "    </tr>\n",
       "    <tr>\n",
       "      <th>12349.0</th>\n",
       "      <td>19</td>\n",
       "      <td>1</td>\n",
       "      <td>1757.55</td>\n",
       "    </tr>\n",
       "    <tr>\n",
       "      <th>12350.0</th>\n",
       "      <td>311</td>\n",
       "      <td>1</td>\n",
       "      <td>334.40</td>\n",
       "    </tr>\n",
       "  </tbody>\n",
       "</table>\n",
       "</div>"
      ],
      "text/plain": [
       "             recency  frequency  monetary\n",
       "Customer ID                              \n",
       "12346.0          326          1  77183.60\n",
       "12347.0            3          7   4310.00\n",
       "12348.0           76          4   1797.24\n",
       "12349.0           19          1   1757.55\n",
       "12350.0          311          1    334.40"
      ]
     },
     "execution_count": 70,
     "metadata": {},
     "output_type": "execute_result"
    }
   ],
   "source": [
    "#Renaming of the metrics\n",
    "rfm.columns=['recency','frequency','monetary']\n",
    "# Filtering  \"monetary>0\"\n",
    "rfm=rfm[rfm[\"monetary\"]>0]\n",
    "rfm.head()"
   ]
  },
  {
   "cell_type": "markdown",
   "id": "5ad8358d",
   "metadata": {},
   "source": [
    "## Generating and Converting RFM Scores to a Single Variable"
   ]
  },
  {
   "cell_type": "code",
   "execution_count": 73,
   "id": "86441d48",
   "metadata": {
    "scrolled": true
   },
   "outputs": [
    {
     "data": {
      "text/html": [
       "<div>\n",
       "<style scoped>\n",
       "    .dataframe tbody tr th:only-of-type {\n",
       "        vertical-align: middle;\n",
       "    }\n",
       "\n",
       "    .dataframe tbody tr th {\n",
       "        vertical-align: top;\n",
       "    }\n",
       "\n",
       "    .dataframe thead th {\n",
       "        text-align: right;\n",
       "    }\n",
       "</style>\n",
       "<table border=\"1\" class=\"dataframe\">\n",
       "  <thead>\n",
       "    <tr style=\"text-align: right;\">\n",
       "      <th></th>\n",
       "      <th>recency</th>\n",
       "      <th>frequency</th>\n",
       "      <th>monetary</th>\n",
       "      <th>recency_score</th>\n",
       "      <th>frequency_score</th>\n",
       "      <th>monetary_score</th>\n",
       "      <th>RFM_SCORE</th>\n",
       "    </tr>\n",
       "    <tr>\n",
       "      <th>Customer ID</th>\n",
       "      <th></th>\n",
       "      <th></th>\n",
       "      <th></th>\n",
       "      <th></th>\n",
       "      <th></th>\n",
       "      <th></th>\n",
       "      <th></th>\n",
       "    </tr>\n",
       "  </thead>\n",
       "  <tbody>\n",
       "    <tr>\n",
       "      <th>12346.0</th>\n",
       "      <td>326</td>\n",
       "      <td>1</td>\n",
       "      <td>77183.60</td>\n",
       "      <td>1</td>\n",
       "      <td>1</td>\n",
       "      <td>5</td>\n",
       "      <td>11</td>\n",
       "    </tr>\n",
       "    <tr>\n",
       "      <th>12347.0</th>\n",
       "      <td>3</td>\n",
       "      <td>7</td>\n",
       "      <td>4310.00</td>\n",
       "      <td>5</td>\n",
       "      <td>5</td>\n",
       "      <td>5</td>\n",
       "      <td>55</td>\n",
       "    </tr>\n",
       "    <tr>\n",
       "      <th>12348.0</th>\n",
       "      <td>76</td>\n",
       "      <td>4</td>\n",
       "      <td>1797.24</td>\n",
       "      <td>2</td>\n",
       "      <td>4</td>\n",
       "      <td>4</td>\n",
       "      <td>24</td>\n",
       "    </tr>\n",
       "    <tr>\n",
       "      <th>12349.0</th>\n",
       "      <td>19</td>\n",
       "      <td>1</td>\n",
       "      <td>1757.55</td>\n",
       "      <td>4</td>\n",
       "      <td>1</td>\n",
       "      <td>4</td>\n",
       "      <td>41</td>\n",
       "    </tr>\n",
       "    <tr>\n",
       "      <th>12350.0</th>\n",
       "      <td>311</td>\n",
       "      <td>1</td>\n",
       "      <td>334.40</td>\n",
       "      <td>1</td>\n",
       "      <td>1</td>\n",
       "      <td>2</td>\n",
       "      <td>11</td>\n",
       "    </tr>\n",
       "  </tbody>\n",
       "</table>\n",
       "</div>"
      ],
      "text/plain": [
       "             recency  frequency  monetary recency_score frequency_score  \\\n",
       "Customer ID                                                               \n",
       "12346.0          326          1  77183.60             1               1   \n",
       "12347.0            3          7   4310.00             5               5   \n",
       "12348.0           76          4   1797.24             2               4   \n",
       "12349.0           19          1   1757.55             4               1   \n",
       "12350.0          311          1    334.40             1               1   \n",
       "\n",
       "            monetary_score RFM_SCORE  \n",
       "Customer ID                           \n",
       "12346.0                  5        11  \n",
       "12347.0                  5        55  \n",
       "12348.0                  4        24  \n",
       "12349.0                  4        41  \n",
       "12350.0                  2        11  "
      ]
     },
     "execution_count": 73,
     "metadata": {},
     "output_type": "execute_result"
    }
   ],
   "source": [
    "#Converting to scores between 1-5.\n",
    "# Recency\n",
    "rfm['recency_score'] = pd.qcut(rfm['recency'], 5, labels = [5,4,3,2,1])\n",
    "# Frequency\n",
    "rfm['frequency_score'] = pd.qcut(rfm['frequency'].rank(method = 'first'), 5, labels = [1,2,3,4,5])\n",
    "# Monetary\n",
    "rfm['monetary_score'] = pd.qcut(rfm['monetary'], 5, labels = [1,2,3,4,5])\n",
    "\n",
    "# It is more important to know the customer's purchase frequency and how long they have not shopped\n",
    "rfm[\"RFM_SCORE\"]  = (rfm['recency_score'].astype(str) + rfm['frequency_score'].astype(str))\n",
    "rfm.head()"
   ]
  },
  {
   "cell_type": "markdown",
   "id": "a91d0bac",
   "metadata": {},
   "source": [
    "## Defining RFM Scores as Segments"
   ]
  },
  {
   "cell_type": "code",
   "execution_count": 75,
   "id": "819424e8",
   "metadata": {},
   "outputs": [
    {
     "data": {
      "text/html": [
       "<div>\n",
       "<style scoped>\n",
       "    .dataframe tbody tr th:only-of-type {\n",
       "        vertical-align: middle;\n",
       "    }\n",
       "\n",
       "    .dataframe tbody tr th {\n",
       "        vertical-align: top;\n",
       "    }\n",
       "\n",
       "    .dataframe thead th {\n",
       "        text-align: right;\n",
       "    }\n",
       "</style>\n",
       "<table border=\"1\" class=\"dataframe\">\n",
       "  <thead>\n",
       "    <tr style=\"text-align: right;\">\n",
       "      <th></th>\n",
       "      <th>recency</th>\n",
       "      <th>frequency</th>\n",
       "      <th>monetary</th>\n",
       "      <th>recency_score</th>\n",
       "      <th>frequency_score</th>\n",
       "      <th>monetary_score</th>\n",
       "      <th>RFM_SCORE</th>\n",
       "      <th>segment</th>\n",
       "    </tr>\n",
       "    <tr>\n",
       "      <th>Customer ID</th>\n",
       "      <th></th>\n",
       "      <th></th>\n",
       "      <th></th>\n",
       "      <th></th>\n",
       "      <th></th>\n",
       "      <th></th>\n",
       "      <th></th>\n",
       "      <th></th>\n",
       "    </tr>\n",
       "  </thead>\n",
       "  <tbody>\n",
       "    <tr>\n",
       "      <th>12346.0</th>\n",
       "      <td>326</td>\n",
       "      <td>1</td>\n",
       "      <td>77183.60</td>\n",
       "      <td>1</td>\n",
       "      <td>1</td>\n",
       "      <td>5</td>\n",
       "      <td>11</td>\n",
       "      <td>hibernating</td>\n",
       "    </tr>\n",
       "    <tr>\n",
       "      <th>12347.0</th>\n",
       "      <td>3</td>\n",
       "      <td>7</td>\n",
       "      <td>4310.00</td>\n",
       "      <td>5</td>\n",
       "      <td>5</td>\n",
       "      <td>5</td>\n",
       "      <td>55</td>\n",
       "      <td>champions</td>\n",
       "    </tr>\n",
       "    <tr>\n",
       "      <th>12348.0</th>\n",
       "      <td>76</td>\n",
       "      <td>4</td>\n",
       "      <td>1797.24</td>\n",
       "      <td>2</td>\n",
       "      <td>4</td>\n",
       "      <td>4</td>\n",
       "      <td>24</td>\n",
       "      <td>at_Risk</td>\n",
       "    </tr>\n",
       "    <tr>\n",
       "      <th>12349.0</th>\n",
       "      <td>19</td>\n",
       "      <td>1</td>\n",
       "      <td>1757.55</td>\n",
       "      <td>4</td>\n",
       "      <td>1</td>\n",
       "      <td>4</td>\n",
       "      <td>41</td>\n",
       "      <td>promising</td>\n",
       "    </tr>\n",
       "    <tr>\n",
       "      <th>12350.0</th>\n",
       "      <td>311</td>\n",
       "      <td>1</td>\n",
       "      <td>334.40</td>\n",
       "      <td>1</td>\n",
       "      <td>1</td>\n",
       "      <td>2</td>\n",
       "      <td>11</td>\n",
       "      <td>hibernating</td>\n",
       "    </tr>\n",
       "  </tbody>\n",
       "</table>\n",
       "</div>"
      ],
      "text/plain": [
       "             recency  frequency  monetary recency_score frequency_score  \\\n",
       "Customer ID                                                               \n",
       "12346.0          326          1  77183.60             1               1   \n",
       "12347.0            3          7   4310.00             5               5   \n",
       "12348.0           76          4   1797.24             2               4   \n",
       "12349.0           19          1   1757.55             4               1   \n",
       "12350.0          311          1    334.40             1               1   \n",
       "\n",
       "            monetary_score RFM_SCORE      segment  \n",
       "Customer ID                                        \n",
       "12346.0                  5        11  hibernating  \n",
       "12347.0                  5        55    champions  \n",
       "12348.0                  4        24      at_Risk  \n",
       "12349.0                  4        41    promising  \n",
       "12350.0                  2        11  hibernating  "
      ]
     },
     "execution_count": 75,
     "metadata": {},
     "output_type": "execute_result"
    }
   ],
   "source": [
    "#Making segment definitions\n",
    "seg_map = {\n",
    "    r'[1-2][1-2]': 'hibernating',\n",
    "    r'[1-2][3-4]': 'at_Risk',\n",
    "    r'[1-2]5': 'cant_loose',\n",
    "    r'3[1-2]': 'about_to_sleep',\n",
    "    r'33': 'need_attention',\n",
    "    r'[3-4][4-5]': 'loyal_customers',\n",
    "    r'41': 'promising',\n",
    "    r'51': 'new_customers',\n",
    "    r'[4-5][2-3]': 'potential_loyalists',\n",
    "    r'5[4-5]': 'champions'\n",
    "}\n",
    "rfm['segment'] = rfm['RFM_SCORE'].replace(seg_map, regex=True)\n",
    "rfm.head()\n"
   ]
  },
  {
   "cell_type": "code",
   "execution_count": 77,
   "id": "1e9a8e01",
   "metadata": {
    "scrolled": true
   },
   "outputs": [
    {
     "data": {
      "text/html": [
       "<div>\n",
       "<style scoped>\n",
       "    .dataframe tbody tr th:only-of-type {\n",
       "        vertical-align: middle;\n",
       "    }\n",
       "\n",
       "    .dataframe tbody tr th {\n",
       "        vertical-align: top;\n",
       "    }\n",
       "\n",
       "    .dataframe thead tr th {\n",
       "        text-align: left;\n",
       "    }\n",
       "\n",
       "    .dataframe thead tr:last-of-type th {\n",
       "        text-align: right;\n",
       "    }\n",
       "</style>\n",
       "<table border=\"1\" class=\"dataframe\">\n",
       "  <thead>\n",
       "    <tr>\n",
       "      <th></th>\n",
       "      <th colspan=\"2\" halign=\"left\">recency</th>\n",
       "      <th colspan=\"2\" halign=\"left\">frequency</th>\n",
       "      <th colspan=\"2\" halign=\"left\">monetary</th>\n",
       "    </tr>\n",
       "    <tr>\n",
       "      <th></th>\n",
       "      <th>mean</th>\n",
       "      <th>count</th>\n",
       "      <th>mean</th>\n",
       "      <th>count</th>\n",
       "      <th>mean</th>\n",
       "      <th>count</th>\n",
       "    </tr>\n",
       "    <tr>\n",
       "      <th>segment</th>\n",
       "      <th></th>\n",
       "      <th></th>\n",
       "      <th></th>\n",
       "      <th></th>\n",
       "      <th></th>\n",
       "      <th></th>\n",
       "    </tr>\n",
       "  </thead>\n",
       "  <tbody>\n",
       "    <tr>\n",
       "      <th>about_to_sleep</th>\n",
       "      <td>53.312500</td>\n",
       "      <td>352</td>\n",
       "      <td>1.161932</td>\n",
       "      <td>352</td>\n",
       "      <td>471.994375</td>\n",
       "      <td>352</td>\n",
       "    </tr>\n",
       "    <tr>\n",
       "      <th>at_Risk</th>\n",
       "      <td>153.785835</td>\n",
       "      <td>593</td>\n",
       "      <td>2.876897</td>\n",
       "      <td>593</td>\n",
       "      <td>1084.535297</td>\n",
       "      <td>593</td>\n",
       "    </tr>\n",
       "    <tr>\n",
       "      <th>cant_loose</th>\n",
       "      <td>132.968254</td>\n",
       "      <td>63</td>\n",
       "      <td>8.380952</td>\n",
       "      <td>63</td>\n",
       "      <td>2796.155873</td>\n",
       "      <td>63</td>\n",
       "    </tr>\n",
       "    <tr>\n",
       "      <th>champions</th>\n",
       "      <td>6.361769</td>\n",
       "      <td>633</td>\n",
       "      <td>12.413902</td>\n",
       "      <td>633</td>\n",
       "      <td>6857.963918</td>\n",
       "      <td>633</td>\n",
       "    </tr>\n",
       "    <tr>\n",
       "      <th>hibernating</th>\n",
       "      <td>217.605042</td>\n",
       "      <td>1071</td>\n",
       "      <td>1.101774</td>\n",
       "      <td>1071</td>\n",
       "      <td>488.643307</td>\n",
       "      <td>1071</td>\n",
       "    </tr>\n",
       "    <tr>\n",
       "      <th>loyal_customers</th>\n",
       "      <td>33.608059</td>\n",
       "      <td>819</td>\n",
       "      <td>6.479853</td>\n",
       "      <td>819</td>\n",
       "      <td>2864.247791</td>\n",
       "      <td>819</td>\n",
       "    </tr>\n",
       "    <tr>\n",
       "      <th>need_attention</th>\n",
       "      <td>52.427807</td>\n",
       "      <td>187</td>\n",
       "      <td>2.326203</td>\n",
       "      <td>187</td>\n",
       "      <td>897.627861</td>\n",
       "      <td>187</td>\n",
       "    </tr>\n",
       "    <tr>\n",
       "      <th>new_customers</th>\n",
       "      <td>7.428571</td>\n",
       "      <td>42</td>\n",
       "      <td>1.000000</td>\n",
       "      <td>42</td>\n",
       "      <td>388.212857</td>\n",
       "      <td>42</td>\n",
       "    </tr>\n",
       "    <tr>\n",
       "      <th>potential_loyalists</th>\n",
       "      <td>17.398760</td>\n",
       "      <td>484</td>\n",
       "      <td>2.010331</td>\n",
       "      <td>484</td>\n",
       "      <td>1041.222004</td>\n",
       "      <td>484</td>\n",
       "    </tr>\n",
       "    <tr>\n",
       "      <th>promising</th>\n",
       "      <td>23.510638</td>\n",
       "      <td>94</td>\n",
       "      <td>1.000000</td>\n",
       "      <td>94</td>\n",
       "      <td>294.007979</td>\n",
       "      <td>94</td>\n",
       "    </tr>\n",
       "  </tbody>\n",
       "</table>\n",
       "</div>"
      ],
      "text/plain": [
       "                        recency        frequency           monetary      \n",
       "                           mean count       mean count         mean count\n",
       "segment                                                                  \n",
       "about_to_sleep        53.312500   352   1.161932   352   471.994375   352\n",
       "at_Risk              153.785835   593   2.876897   593  1084.535297   593\n",
       "cant_loose           132.968254    63   8.380952    63  2796.155873    63\n",
       "champions              6.361769   633  12.413902   633  6857.963918   633\n",
       "hibernating          217.605042  1071   1.101774  1071   488.643307  1071\n",
       "loyal_customers       33.608059   819   6.479853   819  2864.247791   819\n",
       "need_attention        52.427807   187   2.326203   187   897.627861   187\n",
       "new_customers          7.428571    42   1.000000    42   388.212857    42\n",
       "potential_loyalists   17.398760   484   2.010331   484  1041.222004   484\n",
       "promising             23.510638    94   1.000000    94   294.007979    94"
      ]
     },
     "execution_count": 77,
     "metadata": {},
     "output_type": "execute_result"
    }
   ],
   "source": [
    "# Analysis of RFM segments on the basis of mean and number\n",
    "rfm[[\"segment\", \"recency\", \"frequency\", \"monetary\"]].groupby(\"segment\").agg([\"mean\", \"count\"])"
   ]
  },
  {
   "cell_type": "markdown",
   "id": "38d9e5d7",
   "metadata": {},
   "source": [
    "## Actions"
   ]
  },
  {
   "cell_type": "markdown",
   "id": "5bfa5a69",
   "metadata": {},
   "source": [
    " **Potential Loyalists**\n",
    " \n",
    "Potential loyalists are your customers who spend on average and in good amounts. The purchasing frequency of this segment, whose last purchase was made 17.40 days ago on average, is 2.01.\n",
    "\n",
    "**Possible Actions**\n",
    "\n",
    "Actions can be taken to make customers in this segment feel special, such as special personal messages and birthday celebrations. In addition, sharing new products with these people first will be effective in maintaining customer loyalty."
   ]
  },
  {
   "cell_type": "markdown",
   "id": "f19ea61b",
   "metadata": {},
   "source": [
    "**Can’t Lose Them**\n",
    "\n",
    "Customers in this segment are in close rank with loyal customers in terms of the money they leave in proportion to their numbers. In terms of purchase frequency, they are second only to champions. In fact, they do not buy but take action for an average of 132.97 days despite their high frequency.\n",
    "\n",
    "**Possible Actions**\n",
    "\n",
    "* Customers in this segment can be encouraged to purchase by sending regular notifications, discount messages and product recommendations.\n",
    "* It may be necessary to obtain information about why they have not shopped recently by sending various surveys and to take actions accordingly."
   ]
  },
  {
   "cell_type": "markdown",
   "id": "ff53cac2",
   "metadata": {},
   "source": [
    "**Hibernating**\n",
    "\n",
    "They are actually customers whose potential has not yet been activated. This segment has the highest number of customers among all segments. On average, 217.61 days have passed since the last purchases of customers in this segment. While their purchasing frequency is 1.10, their monetary return is 488.64 units. We can say that they are in bad shape in terms of all three scores.\n",
    "\n",
    "**Possible Actions**\n",
    "\n",
    "Creating a triggering opportunity for customers in this segment to interact with a limited-time discount can be effective."
   ]
  },
  {
   "cell_type": "code",
   "execution_count": 81,
   "id": "e7c3422e",
   "metadata": {},
   "outputs": [
    {
     "data": {
      "text/plain": [
       "0      12352\n",
       "1      12359\n",
       "2      12370\n",
       "3      12380\n",
       "4      12388\n",
       "       ...  \n",
       "814    18236\n",
       "815    18257\n",
       "816    18259\n",
       "817    18263\n",
       "818    18287\n",
       "Name: loyal_customers_id, Length: 819, dtype: int32"
      ]
     },
     "execution_count": 81,
     "metadata": {},
     "output_type": "execute_result"
    }
   ],
   "source": [
    "rfm[rfm[\"segment\"] == \"loyal_customers\"].head()\n",
    "\n",
    "# Selecting of loyal customers id\n",
    "new_df = pd.DataFrame()\n",
    "new_df[\"loyal_customers_id\"] = rfm[rfm[\"segment\"]== \"loyal_customers\"].index\n",
    "new_df=new_df[\"loyal_customers_id\"].astype(int)\n",
    "new_df"
   ]
  },
  {
   "cell_type": "code",
   "execution_count": 82,
   "id": "31bad493",
   "metadata": {},
   "outputs": [],
   "source": [
    "# Saving as a csv\n",
    "new_df.to_csv(\"loyal_customers.csv\")"
   ]
  },
  {
   "cell_type": "code",
   "execution_count": null,
   "id": "3ce81c95",
   "metadata": {},
   "outputs": [],
   "source": []
  },
  {
   "cell_type": "markdown",
   "id": "33012556",
   "metadata": {},
   "source": [
    "# Customer Segmentation with K-Means Clustering"
   ]
  },
  {
   "cell_type": "code",
   "execution_count": 102,
   "id": "c6a181d0",
   "metadata": {},
   "outputs": [],
   "source": [
    "import seaborn as sns\n",
    "from matplotlib import pyplot as plt"
   ]
  },
  {
   "cell_type": "code",
   "execution_count": 106,
   "id": "da5bf522",
   "metadata": {},
   "outputs": [
    {
     "name": "stderr",
     "output_type": "stream",
     "text": [
      "C:\\Users\\melih.sari\\Anaconda3\\lib\\site-packages\\seaborn\\distributions.py:2557: FutureWarning: `distplot` is a deprecated function and will be removed in a future version. Please adapt your code to use either `displot` (a figure-level function with similar flexibility) or `histplot` (an axes-level function for histograms).\n",
      "  warnings.warn(msg, FutureWarning)\n"
     ]
    },
    {
     "data": {
      "image/png": "[encoded data removed]",
      "text/plain": [
       "<Figure size 432x288 with 1 Axes>"
      ]
     },
     "metadata": {
      "needs_background": "light"
     },
     "output_type": "display_data"
    }
   ],
   "source": [
    "sns.distplot(rfm[\"recency\"])\n",
    "plt.show()"
   ]
  },
  {
   "cell_type": "code",
   "execution_count": 107,
   "id": "89b864b2",
   "metadata": {},
   "outputs": [
    {
     "name": "stderr",
     "output_type": "stream",
     "text": [
      "C:\\Users\\melih.sari\\Anaconda3\\lib\\site-packages\\seaborn\\distributions.py:2557: FutureWarning: `distplot` is a deprecated function and will be removed in a future version. Please adapt your code to use either `displot` (a figure-level function with similar flexibility) or `histplot` (an axes-level function for histograms).\n",
      "  warnings.warn(msg, FutureWarning)\n"
     ]
    },
    {
     "data": {
      "image/png": "[encoded data removed]",
      "text/plain": [
       "<Figure size 432x288 with 1 Axes>"
      ]
     },
     "metadata": {
      "needs_background": "light"
     },
     "output_type": "display_data"
    }
   ],
   "source": [
    "sns.distplot(rfm[\"frequency\"])\n",
    "plt.show()"
   ]
  },
  {
   "cell_type": "code",
   "execution_count": 108,
   "id": "3fd69897",
   "metadata": {},
   "outputs": [
    {
     "name": "stderr",
     "output_type": "stream",
     "text": [
      "C:\\Users\\melih.sari\\Anaconda3\\lib\\site-packages\\seaborn\\distributions.py:2557: FutureWarning: `distplot` is a deprecated function and will be removed in a future version. Please adapt your code to use either `displot` (a figure-level function with similar flexibility) or `histplot` (an axes-level function for histograms).\n",
      "  warnings.warn(msg, FutureWarning)\n"
     ]
    },
    {
     "data": {
      "text/plain": [
       "<AxesSubplot:xlabel='monetary', ylabel='Density'>"
      ]
     },
     "execution_count": 108,
     "metadata": {},
     "output_type": "execute_result"
    },
    {
     "data": {
      "image/png": "[encoded data removed]",
      "text/plain": [
       "<Figure size 432x288 with 1 Axes>"
      ]
     },
     "metadata": {
      "needs_background": "light"
     },
     "output_type": "display_data"
    }
   ],
   "source": [
    "sns.distplot(rfm[\"monetary\"])"
   ]
  },
  {
   "cell_type": "code",
   "execution_count": 88,
   "id": "6a576241",
   "metadata": {},
   "outputs": [
    {
     "data": {
      "text/html": [
       "<div>\n",
       "<style scoped>\n",
       "    .dataframe tbody tr th:only-of-type {\n",
       "        vertical-align: middle;\n",
       "    }\n",
       "\n",
       "    .dataframe tbody tr th {\n",
       "        vertical-align: top;\n",
       "    }\n",
       "\n",
       "    .dataframe thead th {\n",
       "        text-align: right;\n",
       "    }\n",
       "</style>\n",
       "<table border=\"1\" class=\"dataframe\">\n",
       "  <thead>\n",
       "    <tr style=\"text-align: right;\">\n",
       "      <th></th>\n",
       "      <th>recency</th>\n",
       "      <th>frequency</th>\n",
       "      <th>monetary</th>\n",
       "      <th>recency_score</th>\n",
       "      <th>frequency_score</th>\n",
       "      <th>monetary_score</th>\n",
       "      <th>RFM_SCORE</th>\n",
       "      <th>segment</th>\n",
       "    </tr>\n",
       "    <tr>\n",
       "      <th>Customer ID</th>\n",
       "      <th></th>\n",
       "      <th></th>\n",
       "      <th></th>\n",
       "      <th></th>\n",
       "      <th></th>\n",
       "      <th></th>\n",
       "      <th></th>\n",
       "      <th></th>\n",
       "    </tr>\n",
       "  </thead>\n",
       "  <tbody>\n",
       "    <tr>\n",
       "      <th>12346.0</th>\n",
       "      <td>326</td>\n",
       "      <td>1</td>\n",
       "      <td>77183.60</td>\n",
       "      <td>1</td>\n",
       "      <td>1</td>\n",
       "      <td>5</td>\n",
       "      <td>11</td>\n",
       "      <td>hibernating</td>\n",
       "    </tr>\n",
       "    <tr>\n",
       "      <th>12347.0</th>\n",
       "      <td>3</td>\n",
       "      <td>7</td>\n",
       "      <td>4310.00</td>\n",
       "      <td>5</td>\n",
       "      <td>5</td>\n",
       "      <td>5</td>\n",
       "      <td>55</td>\n",
       "      <td>champions</td>\n",
       "    </tr>\n",
       "    <tr>\n",
       "      <th>12348.0</th>\n",
       "      <td>76</td>\n",
       "      <td>4</td>\n",
       "      <td>1797.24</td>\n",
       "      <td>2</td>\n",
       "      <td>4</td>\n",
       "      <td>4</td>\n",
       "      <td>24</td>\n",
       "      <td>at_Risk</td>\n",
       "    </tr>\n",
       "    <tr>\n",
       "      <th>12349.0</th>\n",
       "      <td>19</td>\n",
       "      <td>1</td>\n",
       "      <td>1757.55</td>\n",
       "      <td>4</td>\n",
       "      <td>1</td>\n",
       "      <td>4</td>\n",
       "      <td>41</td>\n",
       "      <td>promising</td>\n",
       "    </tr>\n",
       "    <tr>\n",
       "      <th>12350.0</th>\n",
       "      <td>311</td>\n",
       "      <td>1</td>\n",
       "      <td>334.40</td>\n",
       "      <td>1</td>\n",
       "      <td>1</td>\n",
       "      <td>2</td>\n",
       "      <td>11</td>\n",
       "      <td>hibernating</td>\n",
       "    </tr>\n",
       "  </tbody>\n",
       "</table>\n",
       "</div>"
      ],
      "text/plain": [
       "             recency  frequency  monetary recency_score frequency_score  \\\n",
       "Customer ID                                                               \n",
       "12346.0          326          1  77183.60             1               1   \n",
       "12347.0            3          7   4310.00             5               5   \n",
       "12348.0           76          4   1797.24             2               4   \n",
       "12349.0           19          1   1757.55             4               1   \n",
       "12350.0          311          1    334.40             1               1   \n",
       "\n",
       "            monetary_score RFM_SCORE      segment  \n",
       "Customer ID                                        \n",
       "12346.0                  5        11  hibernating  \n",
       "12347.0                  5        55    champions  \n",
       "12348.0                  4        24      at_Risk  \n",
       "12349.0                  4        41    promising  \n",
       "12350.0                  2        11  hibernating  "
      ]
     },
     "execution_count": 88,
     "metadata": {},
     "output_type": "execute_result"
    }
   ],
   "source": [
    "rfm.head()"
   ]
  },
  {
   "cell_type": "code",
   "execution_count": 90,
   "id": "49df8c91",
   "metadata": {},
   "outputs": [],
   "source": [
    "cluster=rfm[[\"recency\",\"frequency\",\"monetary\"]]"
   ]
  },
  {
   "cell_type": "code",
   "execution_count": 91,
   "id": "c64a7543",
   "metadata": {},
   "outputs": [
    {
     "data": {
      "text/html": [
       "<div>\n",
       "<style scoped>\n",
       "    .dataframe tbody tr th:only-of-type {\n",
       "        vertical-align: middle;\n",
       "    }\n",
       "\n",
       "    .dataframe tbody tr th {\n",
       "        vertical-align: top;\n",
       "    }\n",
       "\n",
       "    .dataframe thead th {\n",
       "        text-align: right;\n",
       "    }\n",
       "</style>\n",
       "<table border=\"1\" class=\"dataframe\">\n",
       "  <thead>\n",
       "    <tr style=\"text-align: right;\">\n",
       "      <th></th>\n",
       "      <th>recency</th>\n",
       "      <th>frequency</th>\n",
       "      <th>monetary</th>\n",
       "    </tr>\n",
       "    <tr>\n",
       "      <th>Customer ID</th>\n",
       "      <th></th>\n",
       "      <th></th>\n",
       "      <th></th>\n",
       "    </tr>\n",
       "  </thead>\n",
       "  <tbody>\n",
       "    <tr>\n",
       "      <th>12346.0</th>\n",
       "      <td>326</td>\n",
       "      <td>1</td>\n",
       "      <td>77183.60</td>\n",
       "    </tr>\n",
       "    <tr>\n",
       "      <th>12347.0</th>\n",
       "      <td>3</td>\n",
       "      <td>7</td>\n",
       "      <td>4310.00</td>\n",
       "    </tr>\n",
       "    <tr>\n",
       "      <th>12348.0</th>\n",
       "      <td>76</td>\n",
       "      <td>4</td>\n",
       "      <td>1797.24</td>\n",
       "    </tr>\n",
       "    <tr>\n",
       "      <th>12349.0</th>\n",
       "      <td>19</td>\n",
       "      <td>1</td>\n",
       "      <td>1757.55</td>\n",
       "    </tr>\n",
       "    <tr>\n",
       "      <th>12350.0</th>\n",
       "      <td>311</td>\n",
       "      <td>1</td>\n",
       "      <td>334.40</td>\n",
       "    </tr>\n",
       "  </tbody>\n",
       "</table>\n",
       "</div>"
      ],
      "text/plain": [
       "             recency  frequency  monetary\n",
       "Customer ID                              \n",
       "12346.0          326          1  77183.60\n",
       "12347.0            3          7   4310.00\n",
       "12348.0           76          4   1797.24\n",
       "12349.0           19          1   1757.55\n",
       "12350.0          311          1    334.40"
      ]
     },
     "execution_count": 91,
     "metadata": {},
     "output_type": "execute_result"
    }
   ],
   "source": [
    "cluster.head()"
   ]
  },
  {
   "cell_type": "code",
   "execution_count": 92,
   "id": "27b9d29e",
   "metadata": {},
   "outputs": [
    {
     "data": {
      "text/html": [
       "<div>\n",
       "<style scoped>\n",
       "    .dataframe tbody tr th:only-of-type {\n",
       "        vertical-align: middle;\n",
       "    }\n",
       "\n",
       "    .dataframe tbody tr th {\n",
       "        vertical-align: top;\n",
       "    }\n",
       "\n",
       "    .dataframe thead th {\n",
       "        text-align: right;\n",
       "    }\n",
       "</style>\n",
       "<table border=\"1\" class=\"dataframe\">\n",
       "  <thead>\n",
       "    <tr style=\"text-align: right;\">\n",
       "      <th></th>\n",
       "      <th>recency</th>\n",
       "      <th>frequency</th>\n",
       "      <th>monetary</th>\n",
       "    </tr>\n",
       "    <tr>\n",
       "      <th>Customer ID</th>\n",
       "      <th></th>\n",
       "      <th></th>\n",
       "      <th></th>\n",
       "    </tr>\n",
       "  </thead>\n",
       "  <tbody>\n",
       "    <tr>\n",
       "      <th>12346.0</th>\n",
       "      <td>326</td>\n",
       "      <td>1</td>\n",
       "      <td>77183.60</td>\n",
       "    </tr>\n",
       "    <tr>\n",
       "      <th>12347.0</th>\n",
       "      <td>3</td>\n",
       "      <td>7</td>\n",
       "      <td>4310.00</td>\n",
       "    </tr>\n",
       "    <tr>\n",
       "      <th>12348.0</th>\n",
       "      <td>76</td>\n",
       "      <td>4</td>\n",
       "      <td>1797.24</td>\n",
       "    </tr>\n",
       "    <tr>\n",
       "      <th>12349.0</th>\n",
       "      <td>19</td>\n",
       "      <td>1</td>\n",
       "      <td>1757.55</td>\n",
       "    </tr>\n",
       "    <tr>\n",
       "      <th>12350.0</th>\n",
       "      <td>311</td>\n",
       "      <td>1</td>\n",
       "      <td>334.40</td>\n",
       "    </tr>\n",
       "  </tbody>\n",
       "</table>\n",
       "</div>"
      ],
      "text/plain": [
       "             recency  frequency  monetary\n",
       "Customer ID                              \n",
       "12346.0          326          1  77183.60\n",
       "12347.0            3          7   4310.00\n",
       "12348.0           76          4   1797.24\n",
       "12349.0           19          1   1757.55\n",
       "12350.0          311          1    334.40"
      ]
     },
     "execution_count": 92,
     "metadata": {},
     "output_type": "execute_result"
    }
   ],
   "source": [
    "clusterdata=cluster.iloc[:,0:4]\n",
    "clusterdata.head()"
   ]
  },
  {
   "cell_type": "code",
   "execution_count": 110,
   "id": "3d85d080",
   "metadata": {},
   "outputs": [],
   "source": [
    "from sklearn.preprocessing import MinMaxScaler\n",
    "min_max_scaler=MinMaxScaler()\n",
    "x_scaled=min_max_scaler.fit_transform(cluster)\n",
    "data_scaled2=pd.DataFrame(x_scaled)"
   ]
  },
  {
   "cell_type": "code",
   "execution_count": 111,
   "id": "cb2ecd48",
   "metadata": {},
   "outputs": [
    {
     "data": {
      "text/html": [
       "<div>\n",
       "<style scoped>\n",
       "    .dataframe tbody tr th:only-of-type {\n",
       "        vertical-align: middle;\n",
       "    }\n",
       "\n",
       "    .dataframe tbody tr th {\n",
       "        vertical-align: top;\n",
       "    }\n",
       "\n",
       "    .dataframe thead th {\n",
       "        text-align: right;\n",
       "    }\n",
       "</style>\n",
       "<table border=\"1\" class=\"dataframe\">\n",
       "  <thead>\n",
       "    <tr style=\"text-align: right;\">\n",
       "      <th></th>\n",
       "      <th>0</th>\n",
       "      <th>1</th>\n",
       "      <th>2</th>\n",
       "    </tr>\n",
       "  </thead>\n",
       "  <tbody>\n",
       "    <tr>\n",
       "      <th>0</th>\n",
       "      <td>0.871314</td>\n",
       "      <td>0.000000</td>\n",
       "      <td>0.275443</td>\n",
       "    </tr>\n",
       "    <tr>\n",
       "      <th>1</th>\n",
       "      <td>0.005362</td>\n",
       "      <td>0.028846</td>\n",
       "      <td>0.015368</td>\n",
       "    </tr>\n",
       "    <tr>\n",
       "      <th>2</th>\n",
       "      <td>0.201072</td>\n",
       "      <td>0.014423</td>\n",
       "      <td>0.006401</td>\n",
       "    </tr>\n",
       "    <tr>\n",
       "      <th>3</th>\n",
       "      <td>0.048257</td>\n",
       "      <td>0.000000</td>\n",
       "      <td>0.006259</td>\n",
       "    </tr>\n",
       "    <tr>\n",
       "      <th>4</th>\n",
       "      <td>0.831099</td>\n",
       "      <td>0.000000</td>\n",
       "      <td>0.001180</td>\n",
       "    </tr>\n",
       "  </tbody>\n",
       "</table>\n",
       "</div>"
      ],
      "text/plain": [
       "          0         1         2\n",
       "0  0.871314  0.000000  0.275443\n",
       "1  0.005362  0.028846  0.015368\n",
       "2  0.201072  0.014423  0.006401\n",
       "3  0.048257  0.000000  0.006259\n",
       "4  0.831099  0.000000  0.001180"
      ]
     },
     "execution_count": 111,
     "metadata": {},
     "output_type": "execute_result"
    }
   ],
   "source": [
    "data_scaled2.head()"
   ]
  },
  {
   "cell_type": "code",
   "execution_count": 112,
   "id": "bb6fc68c",
   "metadata": {},
   "outputs": [
    {
     "data": {
      "text/html": [
       "<div>\n",
       "<style scoped>\n",
       "    .dataframe tbody tr th:only-of-type {\n",
       "        vertical-align: middle;\n",
       "    }\n",
       "\n",
       "    .dataframe tbody tr th {\n",
       "        vertical-align: top;\n",
       "    }\n",
       "\n",
       "    .dataframe thead th {\n",
       "        text-align: right;\n",
       "    }\n",
       "</style>\n",
       "<table border=\"1\" class=\"dataframe\">\n",
       "  <thead>\n",
       "    <tr style=\"text-align: right;\">\n",
       "      <th></th>\n",
       "      <th>0</th>\n",
       "      <th>1</th>\n",
       "      <th>2</th>\n",
       "    </tr>\n",
       "  </thead>\n",
       "  <tbody>\n",
       "    <tr>\n",
       "      <th>count</th>\n",
       "      <td>4338.000000</td>\n",
       "      <td>4338.000000</td>\n",
       "      <td>4338.000000</td>\n",
       "    </tr>\n",
       "    <tr>\n",
       "      <th>mean</th>\n",
       "      <td>0.246808</td>\n",
       "      <td>0.015731</td>\n",
       "      <td>0.007318</td>\n",
       "    </tr>\n",
       "    <tr>\n",
       "      <th>std</th>\n",
       "      <td>0.268129</td>\n",
       "      <td>0.037010</td>\n",
       "      <td>0.032081</td>\n",
       "    </tr>\n",
       "    <tr>\n",
       "      <th>min</th>\n",
       "      <td>0.000000</td>\n",
       "      <td>0.000000</td>\n",
       "      <td>0.000000</td>\n",
       "    </tr>\n",
       "    <tr>\n",
       "      <th>25%</th>\n",
       "      <td>0.045576</td>\n",
       "      <td>0.000000</td>\n",
       "      <td>0.001084</td>\n",
       "    </tr>\n",
       "    <tr>\n",
       "      <th>50%</th>\n",
       "      <td>0.134048</td>\n",
       "      <td>0.004808</td>\n",
       "      <td>0.002394</td>\n",
       "    </tr>\n",
       "    <tr>\n",
       "      <th>75%</th>\n",
       "      <td>0.380027</td>\n",
       "      <td>0.019231</td>\n",
       "      <td>0.005917</td>\n",
       "    </tr>\n",
       "    <tr>\n",
       "      <th>max</th>\n",
       "      <td>1.000000</td>\n",
       "      <td>1.000000</td>\n",
       "      <td>1.000000</td>\n",
       "    </tr>\n",
       "  </tbody>\n",
       "</table>\n",
       "</div>"
      ],
      "text/plain": [
       "                 0            1            2\n",
       "count  4338.000000  4338.000000  4338.000000\n",
       "mean      0.246808     0.015731     0.007318\n",
       "std       0.268129     0.037010     0.032081\n",
       "min       0.000000     0.000000     0.000000\n",
       "25%       0.045576     0.000000     0.001084\n",
       "50%       0.134048     0.004808     0.002394\n",
       "75%       0.380027     0.019231     0.005917\n",
       "max       1.000000     1.000000     1.000000"
      ]
     },
     "execution_count": 112,
     "metadata": {},
     "output_type": "execute_result"
    }
   ],
   "source": [
    "data_scaled2.describe()"
   ]
  },
  {
   "cell_type": "code",
   "execution_count": 115,
   "id": "051c1b9f",
   "metadata": {},
   "outputs": [],
   "source": [
    "from sklearn.cluster import KMeans"
   ]
  },
  {
   "cell_type": "code",
   "execution_count": 116,
   "id": "07c0fe95",
   "metadata": {},
   "outputs": [
    {
     "data": {
      "image/png": "[encoded data removed]",
      "text/plain": [
       "<Figure size 576x432 with 1 Axes>"
      ]
     },
     "metadata": {
      "needs_background": "light"
     },
     "output_type": "display_data"
    }
   ],
   "source": [
    "plt.figure(figsize=(8,6))\n",
    "wcss=[]\n",
    "for i in range(1,11):\n",
    "    kmeans=KMeans(n_clusters=i , init='k-means++',n_init=10, max_iter=300)\n",
    "    kmeans.fit(data_scaled2)\n",
    "    wcss.append(kmeans.inertia_)\n",
    "plt.plot(range(1,11), wcss)\n",
    "plt.title('The Elbow Method')\n",
    "plt.xlabel('Number of Clusters')\n",
    "plt.ylabel('WCSS')\n",
    "plt.show()"
   ]
  },
  {
   "cell_type": "code",
   "execution_count": 118,
   "id": "51e19b49",
   "metadata": {},
   "outputs": [
    {
     "name": "stdout",
     "output_type": "stream",
     "text": [
      "[0.4873937116653258]\n",
      "[0.4873937116653258, 0.4881932605311758]\n",
      "[0.4873937116653258, 0.4881932605311758, 0.4803965385065335]\n",
      "[0.4873937116653258, 0.4881932605311758, 0.4803965385065335, 0.46498464374159915]\n",
      "[0.4873937116653258, 0.4881932605311758, 0.4803965385065335, 0.46498464374159915, 0.4876022316401459]\n",
      "[0.4873937116653258, 0.4881932605311758, 0.4803965385065335, 0.46498464374159915, 0.4876022316401459, 0.4957444752760247]\n",
      "[0.4873937116653258, 0.4881932605311758, 0.4803965385065335, 0.46498464374159915, 0.4876022316401459, 0.4957444752760247, 0.48331101616774336]\n",
      "[0.4873937116653258, 0.4881932605311758, 0.4803965385065335, 0.46498464374159915, 0.4876022316401459, 0.4957444752760247, 0.48331101616774336, 0.5016233237798807]\n"
     ]
    }
   ],
   "source": [
    "from sklearn.metrics import silhouette_score\n",
    "inertia_list=[]\n",
    "silhouette_score_list=[]\n",
    "for i in range(2,10):\n",
    "    #kmeans=KMeans(n_clusters=i , init='k-means++',n_init=10, max_iter=300)\n",
    "    kmeans.fit(data_scaled2)\n",
    "    silhouette_score_list.append(silhouette_score(data_scaled2,kmeans.labels_))\n",
    "    print(silhouette_score_list)\n",
    "\n",
    "    "
   ]
  },
  {
   "cell_type": "code",
   "execution_count": 134,
   "id": "7f3f947d",
   "metadata": {},
   "outputs": [],
   "source": [
    "kmeans=KMeans(n_clusters=4 , init='k-means++',random_state=0, n_init=10, max_iter=300)\n",
    "kmeans.fit(data_scaled2)\n",
    "pred=kmeans.predict(data_scaled2)"
   ]
  },
  {
   "cell_type": "code",
   "execution_count": 135,
   "id": "4cfca875",
   "metadata": {},
   "outputs": [],
   "source": [
    "pred=kmeans.predict(data_scaled2)"
   ]
  },
  {
   "cell_type": "code",
   "execution_count": 136,
   "id": "1bf1ee80",
   "metadata": {},
   "outputs": [
    {
     "data": {
      "text/plain": [
       "0    2142\n",
       "2    1082\n",
       "1     616\n",
       "3     498\n",
       "Name: cluster, dtype: int64"
      ]
     },
     "execution_count": 136,
     "metadata": {},
     "output_type": "execute_result"
    }
   ],
   "source": [
    "d_frame=pd.DataFrame(cluster)\n",
    "d_frame['cluster']=pred\n",
    "d_frame['cluster'].value_counts()"
   ]
  },
  {
   "cell_type": "code",
   "execution_count": 137,
   "id": "a9c50931",
   "metadata": {},
   "outputs": [
    {
     "data": {
      "text/html": [
       "<div>\n",
       "<style scoped>\n",
       "    .dataframe tbody tr th:only-of-type {\n",
       "        vertical-align: middle;\n",
       "    }\n",
       "\n",
       "    .dataframe tbody tr th {\n",
       "        vertical-align: top;\n",
       "    }\n",
       "\n",
       "    .dataframe thead th {\n",
       "        text-align: right;\n",
       "    }\n",
       "</style>\n",
       "<table border=\"1\" class=\"dataframe\">\n",
       "  <thead>\n",
       "    <tr style=\"text-align: right;\">\n",
       "      <th></th>\n",
       "      <th>recency</th>\n",
       "      <th>frequency</th>\n",
       "      <th>monetary</th>\n",
       "    </tr>\n",
       "    <tr>\n",
       "      <th>cluster</th>\n",
       "      <th></th>\n",
       "      <th></th>\n",
       "      <th></th>\n",
       "    </tr>\n",
       "  </thead>\n",
       "  <tbody>\n",
       "    <tr>\n",
       "      <th>0</th>\n",
       "      <td>19.887021</td>\n",
       "      <td>6.475257</td>\n",
       "      <td>3310.473633</td>\n",
       "    </tr>\n",
       "    <tr>\n",
       "      <th>1</th>\n",
       "      <td>192.219156</td>\n",
       "      <td>1.866883</td>\n",
       "      <td>726.504839</td>\n",
       "    </tr>\n",
       "    <tr>\n",
       "      <th>2</th>\n",
       "      <td>81.904806</td>\n",
       "      <td>2.624769</td>\n",
       "      <td>1008.393283</td>\n",
       "    </tr>\n",
       "    <tr>\n",
       "      <th>3</th>\n",
       "      <td>309.369478</td>\n",
       "      <td>1.349398</td>\n",
       "      <td>565.829056</td>\n",
       "    </tr>\n",
       "  </tbody>\n",
       "</table>\n",
       "</div>"
      ],
      "text/plain": [
       "            recency  frequency     monetary\n",
       "cluster                                    \n",
       "0         19.887021   6.475257  3310.473633\n",
       "1        192.219156   1.866883   726.504839\n",
       "2         81.904806   2.624769  1008.393283\n",
       "3        309.369478   1.349398   565.829056"
      ]
     },
     "execution_count": 137,
     "metadata": {},
     "output_type": "execute_result"
    }
   ],
   "source": [
    "d_frame.groupby('cluster').mean()"
   ]
  },
  {
   "cell_type": "code",
   "execution_count": null,
   "id": "8b4b1d62",
   "metadata": {},
   "outputs": [],
   "source": []
  },
  {
   "cell_type": "code",
   "execution_count": null,
   "id": "5093b323",
   "metadata": {},
   "outputs": [],
   "source": []
  }
 ],
 "metadata": {
  "kernelspec": {
   "display_name": "Python 3",
   "language": "python",
   "name": "python3"
  },
  "language_info": {
   "codemirror_mode": {
    "name": "ipython",
    "version": 3
   },
   "file_extension": ".py",
   "mimetype": "text/x-python",
   "name": "python",
   "nbconvert_exporter": "python",
   "pygments_lexer": "ipython3",
   "version": "3.8.8"
  }
 },
 "nbformat": 4,
 "nbformat_minor": 5
}
